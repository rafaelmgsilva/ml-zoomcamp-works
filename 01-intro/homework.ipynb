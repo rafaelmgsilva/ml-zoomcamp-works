{
 "cells": [
  {
   "cell_type": "code",
   "execution_count": 1,
   "id": "c07b76f2-a52a-4d51-962a-62b8bd40ef1c",
   "metadata": {},
   "outputs": [],
   "source": [
    "import pandas as pd"
   ]
  },
  {
   "cell_type": "code",
   "execution_count": null,
   "id": "e17cb42e-6eab-40be-bef9-c9170dc5be07",
   "metadata": {},
   "outputs": [],
   "source": [
    " df = pd.read_csv('"
   ]
  }
 ],
 "metadata": {
  "kernelspec": {
   "display_name": "Python 3 (ipykernel)",
   "language": "python",
   "name": "python3"
  },
  "language_info": {
   "codemirror_mode": {
    "name": "ipython",
    "version": 3
   },
   "file_extension": ".py",
   "mimetype": "text/x-python",
   "name": "python",
   "nbconvert_exporter": "python",
   "pygments_lexer": "ipython3",
   "version": "3.12.1"
  }
 },
 "nbformat": 4,
 "nbformat_minor": 5
}
